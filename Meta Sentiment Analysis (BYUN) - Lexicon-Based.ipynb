{
 "cells": [
  {
   "attachments": {},
   "cell_type": "markdown",
   "metadata": {},
   "source": [
    "Open File"
   ]
  },
  {
   "cell_type": "code",
   "execution_count": 28,
   "metadata": {},
   "outputs": [],
   "source": [
    "# libraries\n",
    "import emot\n",
    "import re\n",
    "import pickle\n",
    "# pip install emot\n",
    "# from emot.emo_unicode import UNICODE_EMO, EMOTICONS\n",
    "\n",
    "text = open(\"C:/Users/marko/OneDrive/바탕 화면/assignment/social media analysis/YT (csv).txt\",'r',encoding='utf-8')\n",
    "\n",
    "a = text.read()"
   ]
  },
  {
   "attachments": {},
   "cell_type": "markdown",
   "metadata": {},
   "source": [
    "Convert emoticons to text"
   ]
  },
  {
   "cell_type": "code",
   "execution_count": 29,
   "metadata": {},
   "outputs": [],
   "source": [
    "# 'Emoji_Dict.p'- download link https://drive.google.com/open?id=1G1vIkkbqPBYPKHcQ8qy0G2zkoab2Qv4v\n",
    "\n",
    "path = 'C:/Users/marko/OneDrive/바탕 화면/assignment/social media analysis/jupyter/Emoji_Dict.p'\n",
    "with open(path, 'rb') as fp:\n",
    "    Emoji_Dict = pickle.load(fp)\n",
    "Emoji_Dict = {v: k for k, v in Emoji_Dict.items()}\n",
    "\n",
    "def convert_emojis_to_word(text):\n",
    "    for emot in Emoji_Dict:\n",
    "        text = re.sub(r'('+emot+')', \"_\".join(Emoji_Dict[emot].replace(\",\",\"\").replace(\":\",\"\").split()), text)\n",
    "    return text\n",
    "\n",
    "converted = convert_emojis_to_word(a)"
   ]
  },
  {
   "attachments": {},
   "cell_type": "markdown",
   "metadata": {},
   "source": [
    "Split by new line"
   ]
  },
  {
   "cell_type": "code",
   "execution_count": 30,
   "metadata": {},
   "outputs": [
    {
     "data": {
      "text/plain": [
       "['20:52 / 20:52',\n",
       " '•',\n",
       " 'Winning the Personal Device of the Future',\n",
       " \"Facebook's Collapse & The Metaverse Crusade\",\n",
       " 'Modern MBA',\n",
       " '구독자 17만명',\n",
       " '구독',\n",
       " '1.5만',\n",
       " '공유',\n",
       " '저장']"
      ]
     },
     "execution_count": 30,
     "metadata": {},
     "output_type": "execute_result"
    }
   ],
   "source": [
    "chunks = converted.split('\\n')\n",
    "\n",
    "chunks[10:20]"
   ]
  },
  {
   "attachments": {},
   "cell_type": "markdown",
   "metadata": {},
   "source": [
    "regex to filter everythign else except alpha numerical characters"
   ]
  },
  {
   "cell_type": "code",
   "execution_count": 31,
   "metadata": {},
   "outputs": [
    {
     "data": {
      "text/plain": [
       "['2052  2052',\n",
       " '',\n",
       " 'Winning the Personal Device of the Future',\n",
       " 'Facebooks Collapse  The Metaverse Crusade',\n",
       " 'Modern MBA',\n",
       " ' 17',\n",
       " '',\n",
       " '15',\n",
       " '',\n",
       " '']"
      ]
     },
     "execution_count": 31,
     "metadata": {},
     "output_type": "execute_result"
    }
   ],
   "source": [
    "clean = []\n",
    "for text in chunks :\n",
    "    clean.append(re.sub('[^a-zA-z0-9 ]','', text))\n",
    "\n",
    "clean[10:20]"
   ]
  },
  {
   "attachments": {},
   "cell_type": "markdown",
   "metadata": {},
   "source": [
    "tokenize? do i need to do this? except maybe to lower all the characters?"
   ]
  },
  {
   "cell_type": "code",
   "execution_count": 32,
   "metadata": {},
   "outputs": [
    {
     "name": "stderr",
     "output_type": "stream",
     "text": [
      "[nltk_data] Downloading package punkt to\n",
      "[nltk_data]     C:\\Users\\marko\\AppData\\Roaming\\nltk_data...\n",
      "[nltk_data]   Package punkt is already up-to-date!\n"
     ]
    }
   ],
   "source": [
    "import nltk, re, pprint\n",
    "from nltk import word_tokenize\n",
    "nltk.download('punkt')\n",
    "\n",
    "# tokens = word_tokenize(clean)\n",
    "lowered = [a.lower() for a in clean]\n",
    "\n",
    "# print(f\"Type: {type(tokens)}\\nLength: {len(tokens)}\\nFirst 75 characters: {tokens[:75]}\")"
   ]
  },
  {
   "attachments": {},
   "cell_type": "markdown",
   "metadata": {},
   "source": [
    "remove stopwords and removed strings with less than 3 words"
   ]
  },
  {
   "cell_type": "code",
   "execution_count": 33,
   "metadata": {},
   "outputs": [
    {
     "name": "stdout",
     "output_type": "stream",
     "text": [
      "['mark zuckerberg meta facebook instagram and the metaverse  lex fridman podcast 267', 'winning the personal device of the future', 'facebooks collapse  the metaverse crusade', 'this year everything is changing  facebook stock dropped by 26 in a single day wiping out 230b in its valuation after its 4q earnings announcement the company goes through a new crisis every month  employees are stepping out as whistleblowers political pressures are growing but most damning of all  consumers are now spending significantly less time on facebook   ', 'mark zuckerberg meta facebook instagram and the metaverse  lex fridman podcast 267', 'why global supply chains may never be the same  a wsj documentary', 'wall street journal', 'elon musk how i became the real iron man', 'bloomberg quicktake originals', 'what is right to repair', 'is thailand the new weed capital of the world  foreign correspondent', 'abc news indepth', 'i played facebooks vr metaverse so you never have to', 'mark zuckerberg on the quest pro metaverse elons twitter takeover and more', 'in the age of ai full documentary  frontline', 'frontline pbs  official', 'the most important algorithm of all time', 'microsoft just killed zucks metaverse', 'enron  the biggest fraud in history', 'how to lie your way to 34 billion [nikola motors fraud]', 'chinas electricity problem', 'google facebook amazon  the rise of the megacorporations  dw documentary', 'harvard ilab  startup secrets turning products into companies', 'harvard innovation labs', 'why airbnb fails to disrupt the hotel industry', 'election subversion last week tonight with john oliver hbo', 'the world leader in counterfeiting limas fake dollars', 'how this man just caused a 45 billion crash [terra luna]', '012 a companys arrogance ', '315 digital stickiness', '339 deepening its moat', 'didnt do a good enough job protecting peoples data', 'is a funny way of saying that they did everything they could to sell it', 'i think facebook has also underestimated the negative reaction to overpersonalized content  its not just stories in the media that form bad press targeted ads too often is unnerving  the ads start becoming less about their content and more about how creepy they are', 'if you have a bad product but a near monopoly your business appears successful', 'its only when actual competition gains a foothold in the market that you realize just how fragile their spot at the top really was', 'when i was young i was taught that all ads were viruses and even to this day seeing an ad makes me more reluctant to buy whatever is being advertised out of sheer bloodyminded stubbornness and the pettiest spite imaginable', 'the issue that fb has is that they are so untrusted that people will not purchase their new devices they made short term optimization decisions at the expense of long term trust and growth', 'no one is going to mourn fbs demise or look back with fond memories and nostalgia even as much as people who remember blockbuster and their awful late fees look back with nostalgia just to name one example', 'no one no one will do that for facebook', 'cant wait to see facebook fail miserably and go bankrupt', 'major problem with metaverse at the moment is that the ones youd expect to be the first to adapt to it  the gamers are extremely hostile against anything facebookmeta does', 'i actual want to thank him he taught the current generation not to trust them and be cautious about what websites do with your data that knowledge will be passed down to future generations who because of his actions with facebook will be relegated to a museum exhibit', 'when going through my phone apps i noticed facebook installer and facebook manager later called meta manager continously reinstalled themselves on my device despite me not using a single facebook app', 'its these levels of creepy that make me adamant that i will never use anything they make', 'facebook died in my eyes the day i discovered i couldnt physically uninstall it from my phone its viewed by my kids and myself as forced spyware and is just one of those things that is just there its avoided like the plague because we know what they are my generation also has a fixed policy of never buying something from an ad youre forced to watch whether you might want it or not because we know its just a organised phishing scam  in some ways theyre helping to revive the high street were aware awake and like going out shopping in the real world again', 'from a totally unbiased perspective like my mom shes just frustrated that their is soooo much freakin ads and 90 of which are pyramid schemes fake products and scams made by fake accounts she often complains why there is ads on the videos she likes watching on dodo and cooking channels from my informed perspective not only is she right but the amount of ad tracking and fake accounts got me to finally deactivate my account when elon musk questioned twitter about the amount of bots on their platform all of the social media platforms were shook', 'i think that the constant lies and shady businesses have caught up to them it could have been something great but they have abused the trust of people and their privacy too much', 'problem with facebook is that they forgot the reason facebook was created interaction with friends and meeting new people ', 'i created my fb profile back in 2010 at the age of 14 fb was a pretty good alternative to sms texting since it was technically free back then i had like 500 friends and every time id log in id only see friend related updates new profile pics posts youtube songs etc', 'the metaverse seems scary especially with all that personal data being provided for them', 'if you watch social network you definitely realize the type of person that mark is its a great movie and it explains how intellect most often is followed by greed and many other mistakes like mark likes to call it', 'look im just going to come out and say it  google microsoft apple nintendo sony theyve all recognized the times when they needed to actually deliver a good product and just buckled down and produced it  they all made amazing things at some point and time be it a nice search engine streaming platform game hardware or software or something  but facebook  the more you use them the more you realize they are just in a speedy business model all the time  they always made their stuff addictive and always sold out their morals and cheapened the experience  everyone may not know the exact one and outs of it but you can tell theres something shady about it  you know theres bots fake accounts multiple accounts lame adds and content ridiculously algorithms horrible privacy and personal control etc  facebook is like the horrible landlord that you just cant wait to get away from first chance you get', 'any time zuck has to speak in public its solid gold hes literally richard from silicon valley sweating stammering and looking like hes cooking under the lights', 'the most disgusting thing is that they always say sorry but never really carefb is so untrustble', 'every time theres a break in major technological advancement the public narrative for the future seems to fall back to virtual reality theres a scene in the original jurassic park from the early 90s where one of the scientists has vr glasses and gloves on and is moving a virtual dna molecule around with his hands thats basically the metaverse its an idea thats been around since the 80s that never actually goes anywhere if you could go back to the 90s and explain netflix or iphones people would be completely blown away nobody ever imagined the tech we have now vr is something everyone has always imagined would be great but in actuality it really isnt', 'i never really got into facebook its weird at some point i felt like an outcast for not using it i tried it for like 6 months around when it became a thing and hated the experience we had a similar social media service in finland for years before facebook but suddenly everybody went there for reasons i never understood  but nowadays its no biggie at all we have so many ways to communicate that fb is kinda irrelevant', 'even with personal data these companies have a long way to go in terms of giving accurate tailored advertising depending on where you are i knew that fb was after more control more tracking and more data when they started to force users to download the actual app in order to use messenger whereas before you could choose to browse fb and use messenger from your browser even on your mobile devices instead of installing any app im against the you can only use my services via my app stance from any company because i like many people dont like being told what to do there are already enough apps we have to install whether we want it or not depending on where we live thanks to our banks governments and other unavoidable entities as it is when you take into account that not everyone has a high capacity storage phone or tablet when storage becomes an issue folks are going to prioritize installing apps they choose to install on that leftover space they have after installing the bank government and workrelated apps they are using in spite of themselves if a company doesnt give me a choice and wants to force me to install their damn app i might as well move on from using them im not using fb messenger much since they disabled the ability to use it via the web browser for android devices', 'i suspect meta would be having an easier go at it if they werent descendent from a company that willfully ignored atrocious customer satisfaction relative to competition  facebook was never truly liked by their consumers but it was a free product many people found essential with no reasonable competition  that same company now asking people to invest hundreds of dollars in a cuttingedge vr system is a nearimpossible sell', 'and isnt it great to know that no matter how much bad publicity whistleblowers leaks etc the company experiences the average fool is still going to avidly use their products and only aid them in harvesting more and more of your data', 'i really hope facebook fails in this endeavor and people turn to more privacy focused devices and that actually privacy focused devices are made like linux phones', 'i dont think theres really any saving facebook because younger users arent going to want to use the same social media platform as their parents and grandparents none of my nieces and nephews use facebook and i completely understand the minute they subscribed all of my aunts and uncles would try to friend them', 'to be honest i stopped using my oculus the moment zuck bought the company i think it makes sense to set yourself up as a market leader in future tech but i dont think that market share alone is going to pull back consumers who are avoiding facebookmeta', 'i quit personal social media 2 years ago and couldnt be happier im weaning myself from yt due to getting constantly blasted by ads especially for tiktok which i havent ever used and dont plan to linkedin is the only social media site i use', 'manuel r avila', 'i think facebook needs first to get a new ceo give up control of the news wall give users control in what their information is used for and regain users trust before even trying to create platforms nobody will trust in', 'after just watching a few minutes of these old interviews im wondering why anyone trusted this guy to protect their data and personal information he always intended to sell you off to the highest bidder', 'the pivot to vr is a mistake even for the minority that want vr entertainment they want it on a game system where they can be relatively anonymous', 'the silence was deafeningboth when he joked about privacy and when the host asked girls to cheer for mark to take his sweatshirt off  tugs at collar like rodney dangerfield', 'i seriously doubt facebooks ability to pull off turning oculus into the next iphone and horizon into the next windows for a whole host of reasons they at best in my vision could compete with other vr platforms as a games store but the biggest issue is that vr does not provide any added convenience that the iphone doesnt already to do vr you need dedicated space the equipment supplementary technology privacy people dont want to use vr where people can see them and security people dont want to get messed with while in vr all an iphone needs is the phone occasional charging and either internet or cellular connection many steps in phone technology have been to improve ease of use like waterproofing being able to unlock your phone hands free etc all of this on top of the fact that facebook despite the rebrand just isnt hip theyre corporate and cold and their name taints anything they touch their data selling practice is relatively well known and their aesthetic makes them look like theyve never left their polished offices in san francisco for a day of their lives', 'its really amazing that facebook is planning to get dominance on the nextlevel item metaverse i didnt even think about it before this analysis is quite persuasive and   i can understand well about this situation well now this is time for apple and google but someday facebook or other companies could take away that kind of status maybe its fun to imagine it', 'fun fact i use social media less the more i feel like i get personalized content', 'this does help explain why i thought it was rather odd facebook didnt bother trying to make horizon worlds work on non oculus headsets since that wouldve given them a wider potential userbase right now anyone currently more into the steamvr camp', 'i actually was interested in getting into vr stuff but avoided oculus stuff very specifically when they added the requirement to login with a facebook around and i ended up pickin up a used dell windows mixed reality headset instead at a very good price very happy with it', 'great video again', 'it is definitely an interesting play theyre going for seeing the popularity of mmos and vr chat it may work but im not sure how people would like the ad filled dystopia versions of those ', 'maybe i just dont see what zuck sees i just dont see a lot of people wanting to engage in a vr world just to shop or watch videos', 'facebook expectations anticipate what the user wants to buy before he even knows it exists', 'facebook reality recommends something you already bought and only need one of on repeat', 'the problem is that publicly traded companies must continue increasing their revenue and profit to be considered healthy as much as they might like to do what they do best and stay relevant within the social space they cant they are beholden', 'i do agree that its a company strategy bold one at that theyre bankrolling the vr sector to eventually reap rewards fb just doesnt seem to have a killer app or even a good use case for their rather expensive technology theyre selling oculus for loss probably and the device itself is fairly affordable but youd need pretty beefy machine to properly use it and the users seem to be going more casual and mobile than ever before', 'i purposefully remove any ad  categories that facebook thinks im interested in and select hide all ads as often as possible honestly i dont care what it is i probably dont want to buy it and i certainly dont want it encroaching on my time and space i want to see posts from my friends not dumb ads i dont give a crap about targeted ads i dont want them to begin with im actually way less likely to buy nearly any product ive seen on an ad just because of how much it annoys me ', 'i think one thing that is missed is that even tho video photo and digital content is virtual the experience captured is real life not sure how comfortable or inclined people will be to share virtual spaces with their friends if facebook can find a way for people to easily capture real life spaces into vrar perhaps it would be more palatable as a social media product', 'im so sick of facebooks community standards they keep banning you for little things thats not that serious', 'i stopped using facebook in 2014 because there was no point to it for the older generation it made sense as a way to connect to people you couldnt otherwise but for me being in high school i already knew those people and had their phone numbers or snapchat discord or whatever app other than that i didnt use facebook for anything like i dont care about what people post which goes for instagram theres no reason to care about posts on instagram from my perspective if someone has something to say or show they will text it to me the only social media ive used since 2014 is snapchat specifically to message people ', '0042 the question is do you feel like youre violating peoples privacy', 'his answer was i started this company with my friends and other companies wanted to buy our company but we wanted to help connect people', 'the guy identifies this and goes back to the original question about privacy but the woman interrupts and says thats okay do you want to take off the hoodie', 'i remember when several years ago before ios had perphoto privacy settings fb had collected a bunch of photos from my camera reel and decided to create an album out of them this was done without any voluntary action on my part while the app was in the background it was super creepy', 'facebook honestly from the ceo perspective shouldve never made their ad system so good they shouldve left a little bit of wiggle room so that if something happened they could sort of move to match it for advertisers', 'beware the lily of the valley', 'still watching the video but the seconhand embarrassment i felt at that woman for the implication that women want to see mark zuckerberg shirtless is viceral  i absolutely love silence in the crowd when she said that', 'edit great video ive seen your newer ones and youve come a long way with your confidence in narrating your videos  love these longform informative types of videos theyre really great for when i have downtime at work and am not taking calls', 'the fact that this video and all the news articles talking about facebook are titled facebook and not meta means theyve already lost', 'excellent video you really understand the way facebook operates the context in which it operates and really made the case for zucks obsession with the meta verse', 'as someone who works in the ad industry i think the issue with this thesis is that there is any incentive in the adcorporate world to admit that your facebook ad spend isnt producing results in this way fb has an edge in that they can provide worse ad sales outcomes and be protected from any results', 'its all about having control over peoples virtual identity where digital assets are getting attached to this is why they working on systems that people can use their one avatar in multiple apps those digital assets might not be restricted solely to vr objects it may comprise all kind of media and software they will provide a marketplace where they can earn some revenue share on purchases if they choose to implement their own currency they can also make money on the exchange and work with the money people dont cash out i think that meta is moving away from being depending on sale of advertisements they seem to prepare for a future with stricter privacy laws also still the metaverse is a gamble', 'i dont think facebookmeta will be able to produce viable ar and vr technology before they die as a company the technical challenges get exponentially harder the closer you get to the size weight and seamlessness thresholds for mass adoption meanwhile meta could very well dwindle in revenue and resources before that point anyhow once the technology is available metas investment will only pay off if theyve developed a monopoly on the platforms at that point otherwise other players will jump on the bandwagon and reap all the rewards ', 'its just disgusting how deeprooted their marketing and ads goes ', 'i tested in once with my girlfriend on a clean phone we were talking about some random shit we wouldve never talked about talked about brands we would never buy or even talk about in the first place we both never saw ads of the thing we talked about but after a convo of 10 minutes there was literally ads everywhere of the things we just talked about facebook and instagram ']\n"
     ]
    },
    {
     "name": "stderr",
     "output_type": "stream",
     "text": [
      "[nltk_data] Downloading package stopwords to\n",
      "[nltk_data]     C:\\Users\\marko\\AppData\\Roaming\\nltk_data...\n",
      "[nltk_data]   Package stopwords is already up-to-date!\n"
     ]
    }
   ],
   "source": [
    "nltk.download(\"stopwords\")\n",
    "from nltk.corpus import stopwords\n",
    "stopwords = nltk.corpus.stopwords.words('english')\n",
    "stopwords.extend([',','.',':',']','?','\\'','\\\"'])\n",
    "content = [w for w in lowered if w.lower() not in stopwords]\n",
    "content = [a for a in content if len(a.split()) > 2]\n",
    "print(content[:100])"
   ]
  },
  {
   "attachments": {},
   "cell_type": "markdown",
   "metadata": {},
   "source": [
    "lemmatize"
   ]
  },
  {
   "cell_type": "code",
   "execution_count": 34,
   "metadata": {},
   "outputs": [
    {
     "name": "stderr",
     "output_type": "stream",
     "text": [
      "[nltk_data] Downloading package omw-1.4 to\n",
      "[nltk_data]     C:\\Users\\marko\\AppData\\Roaming\\nltk_data...\n",
      "[nltk_data]   Package omw-1.4 is already up-to-date!\n",
      "[nltk_data] Downloading package wordnet to\n",
      "[nltk_data]     C:\\Users\\marko\\AppData\\Roaming\\nltk_data...\n",
      "[nltk_data]   Package wordnet is already up-to-date!\n"
     ]
    },
    {
     "data": {
      "text/plain": [
       "['mark zuckerberg meta facebook instagram and the metaverse  lex fridman podcast 267',\n",
       " 'winning the personal device of the future',\n",
       " 'facebooks collapse  the metaverse crusade',\n",
       " 'this year everything is changing  facebook stock dropped by 26 in a single day wiping out 230b in its valuation after its 4q earnings announcement the company goes through a new crisis every month  employees are stepping out as whistleblowers political pressures are growing but most damning of all  consumers are now spending significantly less time on facebook   ',\n",
       " 'mark zuckerberg meta facebook instagram and the metaverse  lex fridman podcast 267',\n",
       " 'why global supply chains may never be the same  a wsj documentary',\n",
       " 'wall street journal',\n",
       " 'elon musk how i became the real iron man',\n",
       " 'bloomberg quicktake originals',\n",
       " 'what is right to repair']"
      ]
     },
     "execution_count": 34,
     "metadata": {},
     "output_type": "execute_result"
    }
   ],
   "source": [
    "nltk.download('omw-1.4')\n",
    "nltk.download('wordnet')\n",
    "a = nltk.WordNetLemmatizer()\n",
    "lemmatized = [a.lemmatize(t) for t in content]\n",
    "\n",
    "lemmatized[:10]"
   ]
  },
  {
   "attachments": {},
   "cell_type": "markdown",
   "metadata": {},
   "source": [
    "Textblob for Sentiment Analysis"
   ]
  },
  {
   "cell_type": "code",
   "execution_count": 38,
   "metadata": {},
   "outputs": [
    {
     "data": {
      "text/html": [
       "<div>\n",
       "<style scoped>\n",
       "    .dataframe tbody tr th:only-of-type {\n",
       "        vertical-align: middle;\n",
       "    }\n",
       "\n",
       "    .dataframe tbody tr th {\n",
       "        vertical-align: top;\n",
       "    }\n",
       "\n",
       "    .dataframe thead th {\n",
       "        text-align: right;\n",
       "    }\n",
       "</style>\n",
       "<table border=\"1\" class=\"dataframe\">\n",
       "  <thead>\n",
       "    <tr style=\"text-align: right;\">\n",
       "      <th></th>\n",
       "      <th>comments</th>\n",
       "      <th>TextBlob_polarity</th>\n",
       "      <th>TextBlob_subjectivity</th>\n",
       "    </tr>\n",
       "  </thead>\n",
       "  <tbody>\n",
       "    <tr>\n",
       "      <th>21</th>\n",
       "      <td>google facebook amazon  the rise of the megaco...</td>\n",
       "      <td>0.0</td>\n",
       "      <td>0.000000</td>\n",
       "    </tr>\n",
       "    <tr>\n",
       "      <th>22</th>\n",
       "      <td>harvard ilab  startup secrets turning products...</td>\n",
       "      <td>0.0</td>\n",
       "      <td>0.000000</td>\n",
       "    </tr>\n",
       "    <tr>\n",
       "      <th>23</th>\n",
       "      <td>harvard innovation labs</td>\n",
       "      <td>0.0</td>\n",
       "      <td>0.000000</td>\n",
       "    </tr>\n",
       "    <tr>\n",
       "      <th>24</th>\n",
       "      <td>why airbnb fails to disrupt the hotel industry</td>\n",
       "      <td>-0.5</td>\n",
       "      <td>0.300000</td>\n",
       "    </tr>\n",
       "    <tr>\n",
       "      <th>25</th>\n",
       "      <td>election subversion last week tonight with joh...</td>\n",
       "      <td>0.0</td>\n",
       "      <td>0.066667</td>\n",
       "    </tr>\n",
       "    <tr>\n",
       "      <th>26</th>\n",
       "      <td>the world leader in counterfeiting limas fake ...</td>\n",
       "      <td>-0.5</td>\n",
       "      <td>1.000000</td>\n",
       "    </tr>\n",
       "    <tr>\n",
       "      <th>27</th>\n",
       "      <td>how this man just caused a 45 billion crash [t...</td>\n",
       "      <td>0.0</td>\n",
       "      <td>0.000000</td>\n",
       "    </tr>\n",
       "    <tr>\n",
       "      <th>28</th>\n",
       "      <td>012 a companys arrogance</td>\n",
       "      <td>0.0</td>\n",
       "      <td>0.000000</td>\n",
       "    </tr>\n",
       "    <tr>\n",
       "      <th>29</th>\n",
       "      <td>315 digital stickiness</td>\n",
       "      <td>0.0</td>\n",
       "      <td>0.000000</td>\n",
       "    </tr>\n",
       "  </tbody>\n",
       "</table>\n",
       "</div>"
      ],
      "text/plain": [
       "                                             comments  TextBlob_polarity  \\\n",
       "21  google facebook amazon  the rise of the megaco...                0.0   \n",
       "22  harvard ilab  startup secrets turning products...                0.0   \n",
       "23                            harvard innovation labs                0.0   \n",
       "24     why airbnb fails to disrupt the hotel industry               -0.5   \n",
       "25  election subversion last week tonight with joh...                0.0   \n",
       "26  the world leader in counterfeiting limas fake ...               -0.5   \n",
       "27  how this man just caused a 45 billion crash [t...                0.0   \n",
       "28                          012 a companys arrogance                 0.0   \n",
       "29                             315 digital stickiness                0.0   \n",
       "\n",
       "    TextBlob_subjectivity  \n",
       "21               0.000000  \n",
       "22               0.000000  \n",
       "23               0.000000  \n",
       "24               0.300000  \n",
       "25               0.066667  \n",
       "26               1.000000  \n",
       "27               0.000000  \n",
       "28               0.000000  \n",
       "29               0.000000  "
      ]
     },
     "execution_count": 38,
     "metadata": {},
     "output_type": "execute_result"
    }
   ],
   "source": [
    "# Textblob\n",
    "\n",
    "from textblob import TextBlob\n",
    "import numpy as np\n",
    "import pandas as pd\n",
    "\n",
    "X = np.array(lemmatized)\n",
    "\n",
    "#indexnum = list(range(1, 610))\n",
    "\n",
    "df = pd.DataFrame(X,columns=['comments'])\n",
    "\n",
    "#finalDF = df.transpose()\n",
    "\n",
    "#finalDF.head()\n",
    "\n",
    "polarity = []\n",
    "subjectivity = []\n",
    "\n",
    "for sentence in X :\n",
    "    test = TextBlob(sentence)\n",
    "    sentiment = test.sentiment\n",
    "    polarity.append(sentiment.polarity)\n",
    "    subjectivity.append(sentiment.subjectivity)\n",
    "\n",
    "# scores.append(TextBlob(sentences))\n",
    "temp = np.array(polarity)\n",
    "temp2 = np.array(subjectivity)\n",
    "\n",
    "df['TextBlob_polarity'] = temp \n",
    "df['TextBlob_subjectivity'] = temp2\n",
    "\n",
    "df[21:30]\n",
    "\n",
    "# saving the dataframe \n",
    "# df.to_csv('GFG.csv') \n",
    "\n"
   ]
  },
  {
   "cell_type": "code",
   "execution_count": 40,
   "metadata": {},
   "outputs": [],
   "source": [
    "df.to_csv(r'C:\\Users\\marko\\OneDrive\\바탕 화면\\assignment\\social media analysis\\jupyter\\MetaComment.csv')"
   ]
  },
  {
   "attachments": {},
   "cell_type": "markdown",
   "metadata": {},
   "source": [
    "classifying data to neg, pos, and neu"
   ]
  },
  {
   "cell_type": "code",
   "execution_count": 37,
   "metadata": {},
   "outputs": [
    {
     "ename": "FileNotFoundError",
     "evalue": "[Errno 2] No such file or directory: 'Subtask_A/downloaded/twitter-2013train-A.tsv'",
     "output_type": "error",
     "traceback": [
      "\u001b[1;31m---------------------------------------------------------------------------\u001b[0m",
      "\u001b[1;31mFileNotFoundError\u001b[0m                         Traceback (most recent call last)",
      "Cell \u001b[1;32mIn[37], line 32\u001b[0m\n\u001b[0;32m     30\u001b[0m train_dfs \u001b[39m=\u001b[39m []\n\u001b[0;32m     31\u001b[0m \u001b[39mfor\u001b[39;00m f \u001b[39min\u001b[39;00m train_files:\n\u001b[1;32m---> 32\u001b[0m     train_dfs\u001b[39m.\u001b[39mappend(load_dataframe(os\u001b[39m.\u001b[39;49mpath\u001b[39m.\u001b[39;49mjoin(data_dir, \u001b[39m'\u001b[39;49m\u001b[39mdownloaded/\u001b[39;49m\u001b[39m'\u001b[39;49m, f)))\n\u001b[0;32m     33\u001b[0m tweets_train \u001b[39m=\u001b[39m pd\u001b[39m.\u001b[39mconcat(train_dfs)\n\u001b[0;32m     34\u001b[0m tweets_train\u001b[39m.\u001b[39mdrop_duplicates(inplace\u001b[39m=\u001b[39m\u001b[39mTrue\u001b[39;00m)\n",
      "Cell \u001b[1;32mIn[37], line 21\u001b[0m, in \u001b[0;36mload_dataframe\u001b[1;34m(file_path)\u001b[0m\n\u001b[0;32m     20\u001b[0m \u001b[39mdef\u001b[39;00m \u001b[39mload_dataframe\u001b[39m(file_path):\n\u001b[1;32m---> 21\u001b[0m     \u001b[39mreturn\u001b[39;00m pd\u001b[39m.\u001b[39;49mread_csv(\n\u001b[0;32m     22\u001b[0m         file_path, \n\u001b[0;32m     23\u001b[0m         sep\u001b[39m=\u001b[39;49m\u001b[39m'\u001b[39;49m\u001b[39m\\t\u001b[39;49;00m\u001b[39m'\u001b[39;49m,\n\u001b[0;32m     24\u001b[0m         quoting\u001b[39m=\u001b[39;49mcsv\u001b[39m.\u001b[39;49mQUOTE_NONE,\n\u001b[0;32m     25\u001b[0m         usecols\u001b[39m=\u001b[39;49m[\u001b[39m0\u001b[39;49m,\u001b[39m1\u001b[39;49m,\u001b[39m2\u001b[39;49m],\n\u001b[0;32m     26\u001b[0m         names\u001b[39m=\u001b[39;49m[\u001b[39m'\u001b[39;49m\u001b[39mid\u001b[39;49m\u001b[39m'\u001b[39;49m, \u001b[39m'\u001b[39;49m\u001b[39mlabel\u001b[39;49m\u001b[39m'\u001b[39;49m, \u001b[39m'\u001b[39;49m\u001b[39mmessage\u001b[39;49m\u001b[39m'\u001b[39;49m],\n\u001b[0;32m     27\u001b[0m         index_col\u001b[39m=\u001b[39;49m\u001b[39m0\u001b[39;49m,\n\u001b[0;32m     28\u001b[0m         dtype\u001b[39m=\u001b[39;49m{\u001b[39m'\u001b[39;49m\u001b[39mlabel\u001b[39;49m\u001b[39m'\u001b[39;49m: \u001b[39m'\u001b[39;49m\u001b[39mcategory\u001b[39;49m\u001b[39m'\u001b[39;49m})\n",
      "File \u001b[1;32mc:\\Users\\marko\\AppData\\Local\\Programs\\Python\\Python311\\Lib\\site-packages\\pandas\\util\\_decorators.py:211\u001b[0m, in \u001b[0;36mdeprecate_kwarg.<locals>._deprecate_kwarg.<locals>.wrapper\u001b[1;34m(*args, **kwargs)\u001b[0m\n\u001b[0;32m    209\u001b[0m     \u001b[39melse\u001b[39;00m:\n\u001b[0;32m    210\u001b[0m         kwargs[new_arg_name] \u001b[39m=\u001b[39m new_arg_value\n\u001b[1;32m--> 211\u001b[0m \u001b[39mreturn\u001b[39;00m func(\u001b[39m*\u001b[39;49margs, \u001b[39m*\u001b[39;49m\u001b[39m*\u001b[39;49mkwargs)\n",
      "File \u001b[1;32mc:\\Users\\marko\\AppData\\Local\\Programs\\Python\\Python311\\Lib\\site-packages\\pandas\\util\\_decorators.py:331\u001b[0m, in \u001b[0;36mdeprecate_nonkeyword_arguments.<locals>.decorate.<locals>.wrapper\u001b[1;34m(*args, **kwargs)\u001b[0m\n\u001b[0;32m    325\u001b[0m \u001b[39mif\u001b[39;00m \u001b[39mlen\u001b[39m(args) \u001b[39m>\u001b[39m num_allow_args:\n\u001b[0;32m    326\u001b[0m     warnings\u001b[39m.\u001b[39mwarn(\n\u001b[0;32m    327\u001b[0m         msg\u001b[39m.\u001b[39mformat(arguments\u001b[39m=\u001b[39m_format_argument_list(allow_args)),\n\u001b[0;32m    328\u001b[0m         \u001b[39mFutureWarning\u001b[39;00m,\n\u001b[0;32m    329\u001b[0m         stacklevel\u001b[39m=\u001b[39mfind_stack_level(),\n\u001b[0;32m    330\u001b[0m     )\n\u001b[1;32m--> 331\u001b[0m \u001b[39mreturn\u001b[39;00m func(\u001b[39m*\u001b[39;49margs, \u001b[39m*\u001b[39;49m\u001b[39m*\u001b[39;49mkwargs)\n",
      "File \u001b[1;32mc:\\Users\\marko\\AppData\\Local\\Programs\\Python\\Python311\\Lib\\site-packages\\pandas\\io\\parsers\\readers.py:950\u001b[0m, in \u001b[0;36mread_csv\u001b[1;34m(filepath_or_buffer, sep, delimiter, header, names, index_col, usecols, squeeze, prefix, mangle_dupe_cols, dtype, engine, converters, true_values, false_values, skipinitialspace, skiprows, skipfooter, nrows, na_values, keep_default_na, na_filter, verbose, skip_blank_lines, parse_dates, infer_datetime_format, keep_date_col, date_parser, dayfirst, cache_dates, iterator, chunksize, compression, thousands, decimal, lineterminator, quotechar, quoting, doublequote, escapechar, comment, encoding, encoding_errors, dialect, error_bad_lines, warn_bad_lines, on_bad_lines, delim_whitespace, low_memory, memory_map, float_precision, storage_options)\u001b[0m\n\u001b[0;32m    935\u001b[0m kwds_defaults \u001b[39m=\u001b[39m _refine_defaults_read(\n\u001b[0;32m    936\u001b[0m     dialect,\n\u001b[0;32m    937\u001b[0m     delimiter,\n\u001b[1;32m   (...)\u001b[0m\n\u001b[0;32m    946\u001b[0m     defaults\u001b[39m=\u001b[39m{\u001b[39m\"\u001b[39m\u001b[39mdelimiter\u001b[39m\u001b[39m\"\u001b[39m: \u001b[39m\"\u001b[39m\u001b[39m,\u001b[39m\u001b[39m\"\u001b[39m},\n\u001b[0;32m    947\u001b[0m )\n\u001b[0;32m    948\u001b[0m kwds\u001b[39m.\u001b[39mupdate(kwds_defaults)\n\u001b[1;32m--> 950\u001b[0m \u001b[39mreturn\u001b[39;00m _read(filepath_or_buffer, kwds)\n",
      "File \u001b[1;32mc:\\Users\\marko\\AppData\\Local\\Programs\\Python\\Python311\\Lib\\site-packages\\pandas\\io\\parsers\\readers.py:605\u001b[0m, in \u001b[0;36m_read\u001b[1;34m(filepath_or_buffer, kwds)\u001b[0m\n\u001b[0;32m    602\u001b[0m _validate_names(kwds\u001b[39m.\u001b[39mget(\u001b[39m\"\u001b[39m\u001b[39mnames\u001b[39m\u001b[39m\"\u001b[39m, \u001b[39mNone\u001b[39;00m))\n\u001b[0;32m    604\u001b[0m \u001b[39m# Create the parser.\u001b[39;00m\n\u001b[1;32m--> 605\u001b[0m parser \u001b[39m=\u001b[39m TextFileReader(filepath_or_buffer, \u001b[39m*\u001b[39;49m\u001b[39m*\u001b[39;49mkwds)\n\u001b[0;32m    607\u001b[0m \u001b[39mif\u001b[39;00m chunksize \u001b[39mor\u001b[39;00m iterator:\n\u001b[0;32m    608\u001b[0m     \u001b[39mreturn\u001b[39;00m parser\n",
      "File \u001b[1;32mc:\\Users\\marko\\AppData\\Local\\Programs\\Python\\Python311\\Lib\\site-packages\\pandas\\io\\parsers\\readers.py:1442\u001b[0m, in \u001b[0;36mTextFileReader.__init__\u001b[1;34m(self, f, engine, **kwds)\u001b[0m\n\u001b[0;32m   1439\u001b[0m     \u001b[39mself\u001b[39m\u001b[39m.\u001b[39moptions[\u001b[39m\"\u001b[39m\u001b[39mhas_index_names\u001b[39m\u001b[39m\"\u001b[39m] \u001b[39m=\u001b[39m kwds[\u001b[39m\"\u001b[39m\u001b[39mhas_index_names\u001b[39m\u001b[39m\"\u001b[39m]\n\u001b[0;32m   1441\u001b[0m \u001b[39mself\u001b[39m\u001b[39m.\u001b[39mhandles: IOHandles \u001b[39m|\u001b[39m \u001b[39mNone\u001b[39;00m \u001b[39m=\u001b[39m \u001b[39mNone\u001b[39;00m\n\u001b[1;32m-> 1442\u001b[0m \u001b[39mself\u001b[39m\u001b[39m.\u001b[39m_engine \u001b[39m=\u001b[39m \u001b[39mself\u001b[39;49m\u001b[39m.\u001b[39;49m_make_engine(f, \u001b[39mself\u001b[39;49m\u001b[39m.\u001b[39;49mengine)\n",
      "File \u001b[1;32mc:\\Users\\marko\\AppData\\Local\\Programs\\Python\\Python311\\Lib\\site-packages\\pandas\\io\\parsers\\readers.py:1735\u001b[0m, in \u001b[0;36mTextFileReader._make_engine\u001b[1;34m(self, f, engine)\u001b[0m\n\u001b[0;32m   1733\u001b[0m     \u001b[39mif\u001b[39;00m \u001b[39m\"\u001b[39m\u001b[39mb\u001b[39m\u001b[39m\"\u001b[39m \u001b[39mnot\u001b[39;00m \u001b[39min\u001b[39;00m mode:\n\u001b[0;32m   1734\u001b[0m         mode \u001b[39m+\u001b[39m\u001b[39m=\u001b[39m \u001b[39m\"\u001b[39m\u001b[39mb\u001b[39m\u001b[39m\"\u001b[39m\n\u001b[1;32m-> 1735\u001b[0m \u001b[39mself\u001b[39m\u001b[39m.\u001b[39mhandles \u001b[39m=\u001b[39m get_handle(\n\u001b[0;32m   1736\u001b[0m     f,\n\u001b[0;32m   1737\u001b[0m     mode,\n\u001b[0;32m   1738\u001b[0m     encoding\u001b[39m=\u001b[39;49m\u001b[39mself\u001b[39;49m\u001b[39m.\u001b[39;49moptions\u001b[39m.\u001b[39;49mget(\u001b[39m\"\u001b[39;49m\u001b[39mencoding\u001b[39;49m\u001b[39m\"\u001b[39;49m, \u001b[39mNone\u001b[39;49;00m),\n\u001b[0;32m   1739\u001b[0m     compression\u001b[39m=\u001b[39;49m\u001b[39mself\u001b[39;49m\u001b[39m.\u001b[39;49moptions\u001b[39m.\u001b[39;49mget(\u001b[39m\"\u001b[39;49m\u001b[39mcompression\u001b[39;49m\u001b[39m\"\u001b[39;49m, \u001b[39mNone\u001b[39;49;00m),\n\u001b[0;32m   1740\u001b[0m     memory_map\u001b[39m=\u001b[39;49m\u001b[39mself\u001b[39;49m\u001b[39m.\u001b[39;49moptions\u001b[39m.\u001b[39;49mget(\u001b[39m\"\u001b[39;49m\u001b[39mmemory_map\u001b[39;49m\u001b[39m\"\u001b[39;49m, \u001b[39mFalse\u001b[39;49;00m),\n\u001b[0;32m   1741\u001b[0m     is_text\u001b[39m=\u001b[39;49mis_text,\n\u001b[0;32m   1742\u001b[0m     errors\u001b[39m=\u001b[39;49m\u001b[39mself\u001b[39;49m\u001b[39m.\u001b[39;49moptions\u001b[39m.\u001b[39;49mget(\u001b[39m\"\u001b[39;49m\u001b[39mencoding_errors\u001b[39;49m\u001b[39m\"\u001b[39;49m, \u001b[39m\"\u001b[39;49m\u001b[39mstrict\u001b[39;49m\u001b[39m\"\u001b[39;49m),\n\u001b[0;32m   1743\u001b[0m     storage_options\u001b[39m=\u001b[39;49m\u001b[39mself\u001b[39;49m\u001b[39m.\u001b[39;49moptions\u001b[39m.\u001b[39;49mget(\u001b[39m\"\u001b[39;49m\u001b[39mstorage_options\u001b[39;49m\u001b[39m\"\u001b[39;49m, \u001b[39mNone\u001b[39;49;00m),\n\u001b[0;32m   1744\u001b[0m )\n\u001b[0;32m   1745\u001b[0m \u001b[39massert\u001b[39;00m \u001b[39mself\u001b[39m\u001b[39m.\u001b[39mhandles \u001b[39mis\u001b[39;00m \u001b[39mnot\u001b[39;00m \u001b[39mNone\u001b[39;00m\n\u001b[0;32m   1746\u001b[0m f \u001b[39m=\u001b[39m \u001b[39mself\u001b[39m\u001b[39m.\u001b[39mhandles\u001b[39m.\u001b[39mhandle\n",
      "File \u001b[1;32mc:\\Users\\marko\\AppData\\Local\\Programs\\Python\\Python311\\Lib\\site-packages\\pandas\\io\\common.py:856\u001b[0m, in \u001b[0;36mget_handle\u001b[1;34m(path_or_buf, mode, encoding, compression, memory_map, is_text, errors, storage_options)\u001b[0m\n\u001b[0;32m    851\u001b[0m \u001b[39melif\u001b[39;00m \u001b[39misinstance\u001b[39m(handle, \u001b[39mstr\u001b[39m):\n\u001b[0;32m    852\u001b[0m     \u001b[39m# Check whether the filename is to be opened in binary mode.\u001b[39;00m\n\u001b[0;32m    853\u001b[0m     \u001b[39m# Binary mode does not support 'encoding' and 'newline'.\u001b[39;00m\n\u001b[0;32m    854\u001b[0m     \u001b[39mif\u001b[39;00m ioargs\u001b[39m.\u001b[39mencoding \u001b[39mand\u001b[39;00m \u001b[39m\"\u001b[39m\u001b[39mb\u001b[39m\u001b[39m\"\u001b[39m \u001b[39mnot\u001b[39;00m \u001b[39min\u001b[39;00m ioargs\u001b[39m.\u001b[39mmode:\n\u001b[0;32m    855\u001b[0m         \u001b[39m# Encoding\u001b[39;00m\n\u001b[1;32m--> 856\u001b[0m         handle \u001b[39m=\u001b[39m \u001b[39mopen\u001b[39;49m(\n\u001b[0;32m    857\u001b[0m             handle,\n\u001b[0;32m    858\u001b[0m             ioargs\u001b[39m.\u001b[39;49mmode,\n\u001b[0;32m    859\u001b[0m             encoding\u001b[39m=\u001b[39;49mioargs\u001b[39m.\u001b[39;49mencoding,\n\u001b[0;32m    860\u001b[0m             errors\u001b[39m=\u001b[39;49merrors,\n\u001b[0;32m    861\u001b[0m             newline\u001b[39m=\u001b[39;49m\u001b[39m\"\u001b[39;49m\u001b[39m\"\u001b[39;49m,\n\u001b[0;32m    862\u001b[0m         )\n\u001b[0;32m    863\u001b[0m     \u001b[39melse\u001b[39;00m:\n\u001b[0;32m    864\u001b[0m         \u001b[39m# Binary mode\u001b[39;00m\n\u001b[0;32m    865\u001b[0m         handle \u001b[39m=\u001b[39m \u001b[39mopen\u001b[39m(handle, ioargs\u001b[39m.\u001b[39mmode)\n",
      "\u001b[1;31mFileNotFoundError\u001b[0m: [Errno 2] No such file or directory: 'Subtask_A/downloaded/twitter-2013train-A.tsv'"
     ]
    }
   ],
   "source": []
  },
  {
   "attachments": {},
   "cell_type": "markdown",
   "metadata": {},
   "source": [
    "baseline"
   ]
  },
  {
   "cell_type": "code",
   "execution_count": null,
   "metadata": {},
   "outputs": [],
   "source": []
  },
  {
   "attachments": {},
   "cell_type": "markdown",
   "metadata": {},
   "source": [
    "BERT"
   ]
  },
  {
   "cell_type": "code",
   "execution_count": null,
   "metadata": {},
   "outputs": [],
   "source": []
  }
 ],
 "metadata": {
  "kernelspec": {
   "display_name": "Python 3",
   "language": "python",
   "name": "python3"
  },
  "language_info": {
   "codemirror_mode": {
    "name": "ipython",
    "version": 3
   },
   "file_extension": ".py",
   "mimetype": "text/x-python",
   "name": "python",
   "nbconvert_exporter": "python",
   "pygments_lexer": "ipython3",
   "version": "3.11.1"
  },
  "orig_nbformat": 4,
  "vscode": {
   "interpreter": {
    "hash": "a347ab4df1061e535580722696a62870728902da830764bb1a2352bf3b84b579"
   }
  }
 },
 "nbformat": 4,
 "nbformat_minor": 2
}
